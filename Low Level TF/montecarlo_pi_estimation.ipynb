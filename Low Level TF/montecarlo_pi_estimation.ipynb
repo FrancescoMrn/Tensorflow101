{
 "cells": [
  {
   "cell_type": "markdown",
   "metadata": {},
   "source": [
    "# Estimate Pi($\\pi$) with Monte Carlo Simulation and TF"
   ]
  },
  {
   "cell_type": "code",
   "execution_count": 79,
   "metadata": {},
   "outputs": [],
   "source": [
    "import tensorflow as tf\n",
    "import numpy as np"
   ]
  },
  {
   "cell_type": "code",
   "execution_count": 90,
   "metadata": {},
   "outputs": [
    {
     "name": "stdout",
     "output_type": "stream",
     "text": [
      "2.1.0\n",
      "Exceution eager: True\n"
     ]
    }
   ],
   "source": [
    "# check tensorflow version\n",
    "print(tf.__version__)\n",
    "# check eager execution\n",
    "print(\"Exceution eager:\",tf.executing_eagerly())"
   ]
  },
  {
   "cell_type": "markdown",
   "metadata": {},
   "source": [
    "## Code and method used"
   ]
  },
  {
   "cell_type": "code",
   "execution_count": 82,
   "metadata": {},
   "outputs": [],
   "source": [
    "def compute_simulation_step(area_circle, area_square, estimated_pi_n0):\n",
    "    \n",
    "    x = tf.random.uniform((1,), minval=0, maxval=1, dtype=tf.dtypes.float32, seed=None, name='x')\n",
    "    y = tf.random.uniform((1,), minval=0, maxval=1, dtype=tf.dtypes.float32, seed=None, name='y')\n",
    "    area_square += 1\n",
    "    \n",
    "    if (x**2 + y**2) < 1:\n",
    "        area_circle += 1\n",
    "\n",
    "    estimated_pi = (4*area_circle) / area_square\n",
    "    absolute_error = tf.math.abs(estimated_pi_n0-estimated_pi, name='abs_error')\n",
    "  \n",
    "    return area_circle, area_square, estimated_pi, absolute_error"
   ]
  },
  {
   "cell_type": "code",
   "execution_count": 83,
   "metadata": {},
   "outputs": [],
   "source": [
    "def initialize_fn():\n",
    "    area_circle = tf.constant([0], dtype=None, shape=(1,), name='a_circle')\n",
    "    area_square = tf.constant([0], dtype=None, shape=(1,), name='a_square')\n",
    "    estimated_pi = tf.random.uniform((1,), minval=0, maxval=10, dtype=tf.dtypes.float64, seed=None, name='pi_init')\n",
    "    return area_circle, area_square, estimated_pi"
   ]
  },
  {
   "cell_type": "code",
   "execution_count": 84,
   "metadata": {},
   "outputs": [],
   "source": [
    "area_circle, area_square, estimated_pi = initialize_fn()"
   ]
  },
  {
   "cell_type": "code",
   "execution_count": 85,
   "metadata": {},
   "outputs": [],
   "source": [
    "max_iteration = 5000\n",
    "for step in range(max_iteration):\n",
    "    area_circle, area_square, estimated_pi, absolute_error = compute_simulation_step(area_circle, area_square, estimated_pi)"
   ]
  },
  {
   "cell_type": "code",
   "execution_count": 88,
   "metadata": {},
   "outputs": [
    {
     "name": "stdout",
     "output_type": "stream",
     "text": [
      "Estimated pi value: [3.1504]\n",
      "Error function: [0.00016995]\n"
     ]
    }
   ],
   "source": [
    "print('Estimated pi value: {}'.format(estimated_pi))\n",
    "print('Error function: {}'.format(absolute_error))"
   ]
  }
 ],
 "metadata": {
  "kernelspec": {
   "display_name": "Python 3",
   "language": "python",
   "name": "python3"
  },
  "language_info": {
   "codemirror_mode": {
    "name": "ipython",
    "version": 3
   },
   "file_extension": ".py",
   "mimetype": "text/x-python",
   "name": "python",
   "nbconvert_exporter": "python",
   "pygments_lexer": "ipython3",
   "version": "3.6.10"
  }
 },
 "nbformat": 4,
 "nbformat_minor": 4
}
