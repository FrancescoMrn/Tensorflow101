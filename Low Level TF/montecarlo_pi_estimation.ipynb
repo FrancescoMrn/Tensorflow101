{
 "cells": [
  {
   "cell_type": "markdown",
   "metadata": {},
   "source": [
    "# Estimate Pi($\\pi$) with Monte Carlo Simulation and TF\n",
    "\n",
    "In this notebook will be predented and code a fearly simple application of the idea of resampling and Monte Carlo"
   ]
  },
  {
   "cell_type": "code",
   "execution_count": 1,
   "metadata": {},
   "outputs": [],
   "source": [
    "import tensorflow as tf\n",
    "import numpy as np"
   ]
  },
  {
   "cell_type": "code",
   "execution_count": 2,
   "metadata": {},
   "outputs": [
    {
     "name": "stdout",
     "output_type": "stream",
     "text": [
      "2.1.0\n",
      "Exceution eager: True\n"
     ]
    }
   ],
   "source": [
    "# check tensorflow version\n",
    "print(tf.__version__)\n",
    "# check eager execution\n",
    "print(\"Exceution eager:\",tf.executing_eagerly())"
   ]
  },
  {
   "cell_type": "markdown",
   "metadata": {},
   "source": [
    "## How to estimate pi\n",
    "\n",
    "### Geometrical understanding"
   ]
  },
  {
   "cell_type": "markdown",
   "metadata": {},
   "source": [
    "<img src=\"image/square_circle_draw.png\" alt=\"circle_area\" width=\"350\" height=\"350\" />\n",
    "\n",
    "\n",
    "The basic idea of pi estimation can be intuitively understood with the square/circle geometrical analogy. First, we have to prove that it is possible to estimate the pi as area ratio. To do so, we can write:\n",
    "\n",
    "$$\\pi = 4* \\frac{ A(OAC)}{A(OABC)}  $$\n",
    "\n",
    "This equation is true since:\n",
    "\n",
    "$$\\pi = 4* \\frac{\\frac{1}{4} \\pi r^2}{r^2}$$\n",
    "\n",
    "The equation above is valid, so it is possible to use the geometrical approach. Looking at the entire circle and square it is possible to write:\n",
    "\n",
    "$$P = \\frac{\\pi r^2}{4 r^2}$$\n",
    "\n",
    "where P is the probability for one of the random red dots of being inside the circle defined as in the picture, so that\n",
    "\n",
    "$$4 P = \\pi$$\n",
    "\n",
    "by rewriting P as a ratio of the two areas, we have the possibility of estimating the $\\pi$ as wanted."
   ]
  },
  {
   "cell_type": "markdown",
   "metadata": {},
   "source": [
    "### Algorithm for estimation coded\n",
    "\n",
    "The coded algortithm follows the step above. We do sample from a random distribution (uniform) and we estimate per each step the ration between the circle and the square with the last formula presented above"
   ]
  },
  {
   "cell_type": "code",
   "execution_count": 3,
   "metadata": {},
   "outputs": [],
   "source": [
    "def compute_simulation_step(area_circle, area_square, estimated_pi_n0):\n",
    "    \n",
    "    x = tf.random.uniform((1,), minval=0, maxval=1, dtype=tf.dtypes.float32, seed=None, name='x')\n",
    "    y = tf.random.uniform((1,), minval=0, maxval=1, dtype=tf.dtypes.float32, seed=None, name='y')\n",
    "    area_square += 1\n",
    "    \n",
    "    if (x**2 + y**2) < 1:\n",
    "        area_circle += 1\n",
    "\n",
    "    estimated_pi = (4*area_circle) / area_square\n",
    "    absolute_error = tf.math.abs(estimated_pi_n0-estimated_pi, name='abs_error')\n",
    "  \n",
    "    return area_circle, area_square, estimated_pi, absolute_error"
   ]
  },
  {
   "cell_type": "code",
   "execution_count": 4,
   "metadata": {},
   "outputs": [],
   "source": [
    "def initialize_fn():\n",
    "    area_circle = tf.constant([0], dtype=None, shape=(1,), name='a_circle')\n",
    "    area_square = tf.constant([0], dtype=None, shape=(1,), name='a_square')\n",
    "    estimated_pi = tf.random.uniform((1,), minval=0, maxval=10, dtype=tf.dtypes.float64, seed=None, name='pi_init')\n",
    "    return area_circle, area_square, estimated_pi"
   ]
  },
  {
   "cell_type": "code",
   "execution_count": 5,
   "metadata": {},
   "outputs": [],
   "source": [
    "area_circle, area_square, estimated_pi = initialize_fn()"
   ]
  },
  {
   "cell_type": "code",
   "execution_count": 6,
   "metadata": {},
   "outputs": [],
   "source": [
    "max_iteration = 5000\n",
    "for step in range(max_iteration):\n",
    "    area_circle, area_square, estimated_pi, absolute_error = compute_simulation_step(area_circle, area_square, estimated_pi)"
   ]
  },
  {
   "cell_type": "code",
   "execution_count": 7,
   "metadata": {},
   "outputs": [
    {
     "name": "stdout",
     "output_type": "stream",
     "text": [
      "Estimated pi value: [3.1224]\n",
      "Error function: [0.00017556]\n"
     ]
    }
   ],
   "source": [
    "print('Estimated pi value: {}'.format(estimated_pi))\n",
    "print('Error function: {}'.format(absolute_error))"
   ]
  },
  {
   "cell_type": "markdown",
   "metadata": {},
   "source": [
    "### Next possible improvements\n",
    "\n",
    "- Add tensorflow graph mode to estimate performances improvement\n",
    "- Add tensorbord logging to keep track of the convergence\n",
    "\n",
    "@Author: Francesco Marino"
   ]
  },
  {
   "cell_type": "code",
   "execution_count": null,
   "metadata": {},
   "outputs": [],
   "source": []
  }
 ],
 "metadata": {
  "kernelspec": {
   "display_name": "Python 3",
   "language": "python",
   "name": "python3"
  },
  "language_info": {
   "codemirror_mode": {
    "name": "ipython",
    "version": 3
   },
   "file_extension": ".py",
   "mimetype": "text/x-python",
   "name": "python",
   "nbconvert_exporter": "python",
   "pygments_lexer": "ipython3",
   "version": "3.6.10"
  }
 },
 "nbformat": 4,
 "nbformat_minor": 4
}
