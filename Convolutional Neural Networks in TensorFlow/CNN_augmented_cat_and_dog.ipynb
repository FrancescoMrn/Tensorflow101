{
 "cells": [
  {
   "cell_type": "markdown",
   "metadata": {},
   "source": [
    "# CNN augmented image generator\n",
    "Course 2 - Week 2\n",
    "\n",
    "This code based over the code provided during the:\n",
    "\n",
    "**Tensorflow in Practice** - Coursera Specialization.\n",
    "\n",
    "Original code repo: https://github.com/lmoroney/dlaicourse\n",
    "\n",
    "To maximize the learning all the notebooks will be modified by keeping the underling goals. Finally, the ultimate goal is to learn best practices in the usage of TF an not to obtain for each notebook the best possible model."
   ]
  },
  {
   "cell_type": "markdown",
   "metadata": {},
   "source": [
    "### Download data"
   ]
  },
  {
   "cell_type": "raw",
   "metadata": {},
   "source": [
    "# Download data from the online storage\n",
    "!wget --no-check-certificate https://storage.googleapis.com/mledu-datasets/cats_and_dogs_filtered.zip -O C:\\git\\TF_coursera\\data"
   ]
  },
  {
   "cell_type": "markdown",
   "metadata": {},
   "source": [
    "### Imports"
   ]
  },
  {
   "cell_type": "code",
   "execution_count": 2,
   "metadata": {},
   "outputs": [],
   "source": [
    "import os\n",
    "import zipfile, fnmatch\n",
    "\n",
    "import tensorflow as tf\n",
    "from tensorflow import keras"
   ]
  },
  {
   "cell_type": "code",
   "execution_count": 3,
   "metadata": {},
   "outputs": [
    {
     "name": "stdout",
     "output_type": "stream",
     "text": [
      "[PhysicalDevice(name='/physical_device:GPU:0', device_type='GPU')]\n"
     ]
    }
   ],
   "source": [
    "# check gpu\n",
    "print(tf.config.experimental.list_physical_devices(\"GPU\"))"
   ]
  },
  {
   "cell_type": "code",
   "execution_count": 4,
   "metadata": {},
   "outputs": [],
   "source": [
    "LOCAL_ZIP = \"C:\\git\\TF_coursera\\data\"\n",
    "PATTERN = '*.zip'"
   ]
  },
  {
   "cell_type": "code",
   "execution_count": 5,
   "metadata": {},
   "outputs": [],
   "source": [
    "def unzip(rootPath, pattern):\n",
    "    for root, dirs, files in os.walk(rootPath):\n",
    "        unzip_path = []\n",
    "        for filename in fnmatch.filter(files, pattern):\n",
    "            unzip_path.append(os.path.join(root, filename.split(\".\")[0]))\n",
    "            print(os.path.join(root, filename))\n",
    "            zipfile.ZipFile(os.path.join(root, filename)).extractall(os.path.join(root, os.path.splitext(filename)[0]))\n",
    "    return unzip_path"
   ]
  },
  {
   "cell_type": "code",
   "execution_count": 6,
   "metadata": {},
   "outputs": [
    {
     "name": "stdout",
     "output_type": "stream",
     "text": [
      "C:\\git\\TF_coursera\\data\\cats_and_dogs.zip\n"
     ]
    }
   ],
   "source": [
    "main_path = unzip(LOCAL_ZIP, PATTERN)"
   ]
  },
  {
   "cell_type": "code",
   "execution_count": 7,
   "metadata": {},
   "outputs": [],
   "source": [
    "base = \"C:/git/TF_coursera/data/cats_and_dogs/\"\n",
    "train_dir = os.path.join(base, 'cats_and_dogs_filtered/train')\n",
    "validation_dir = os.path.join(base, 'cats_and_dogs_filtered/validation')"
   ]
  },
  {
   "cell_type": "markdown",
   "metadata": {},
   "source": [
    "### Baseline CNN model"
   ]
  },
  {
   "cell_type": "code",
   "execution_count": 8,
   "metadata": {},
   "outputs": [],
   "source": [
    "model = tf.keras.models.Sequential([\n",
    "    # Note the input shape is the desired size of the image 150x150 with 3 bytes color\n",
    "    tf.keras.layers.Conv2D(16, (3,3), activation='relu', input_shape=(150, 150, 3)),\n",
    "    tf.keras.layers.MaxPooling2D(2,2),\n",
    "    tf.keras.layers.Conv2D(32, (3,3), activation='relu'),\n",
    "    tf.keras.layers.MaxPooling2D(2,2), \n",
    "    tf.keras.layers.Conv2D(64, (3,3), activation='relu'), \n",
    "    tf.keras.layers.MaxPooling2D(2,2),\n",
    "    # Flatten the results to feed into a DNN\n",
    "    tf.keras.layers.Flatten(), \n",
    "    # 512 neuron hidden layer\n",
    "    tf.keras.layers.Dense(512, activation='relu'), \n",
    "    # Only 1 output neuron. It will contain a value from 0-1 where 0 for 1 class ('cats') and 1 for the other ('dogs')\n",
    "    tf.keras.layers.Dense(1, activation='sigmoid')  \n",
    "])"
   ]
  },
  {
   "cell_type": "code",
   "execution_count": 9,
   "metadata": {},
   "outputs": [
    {
     "name": "stdout",
     "output_type": "stream",
     "text": [
      "Model: \"sequential\"\n",
      "_________________________________________________________________\n",
      "Layer (type)                 Output Shape              Param #   \n",
      "=================================================================\n",
      "conv2d (Conv2D)              (None, 148, 148, 16)      448       \n",
      "_________________________________________________________________\n",
      "max_pooling2d (MaxPooling2D) (None, 74, 74, 16)        0         \n",
      "_________________________________________________________________\n",
      "conv2d_1 (Conv2D)            (None, 72, 72, 32)        4640      \n",
      "_________________________________________________________________\n",
      "max_pooling2d_1 (MaxPooling2 (None, 36, 36, 32)        0         \n",
      "_________________________________________________________________\n",
      "conv2d_2 (Conv2D)            (None, 34, 34, 64)        18496     \n",
      "_________________________________________________________________\n",
      "max_pooling2d_2 (MaxPooling2 (None, 17, 17, 64)        0         \n",
      "_________________________________________________________________\n",
      "flatten (Flatten)            (None, 18496)             0         \n",
      "_________________________________________________________________\n",
      "dense (Dense)                (None, 512)               9470464   \n",
      "_________________________________________________________________\n",
      "dense_1 (Dense)              (None, 1)                 513       \n",
      "=================================================================\n",
      "Total params: 9,494,561\n",
      "Trainable params: 9,494,561\n",
      "Non-trainable params: 0\n",
      "_________________________________________________________________\n"
     ]
    }
   ],
   "source": [
    "model.summary()"
   ]
  },
  {
   "cell_type": "code",
   "execution_count": 10,
   "metadata": {},
   "outputs": [],
   "source": [
    "# model compiler\n",
    "from tensorflow.keras.optimizers import RMSprop\n",
    "\n",
    "model.compile(optimizer=RMSprop(lr=0.001),\n",
    "              loss='binary_crossentropy',\n",
    "              metrics = ['accuracy'])"
   ]
  },
  {
   "cell_type": "markdown",
   "metadata": {},
   "source": [
    "### Image generator\n",
    "\n",
    "At this time we will introduce some image augmentation to increase the accuracy over time and prevent the model to learn after few epochs"
   ]
  },
  {
   "cell_type": "code",
   "execution_count": 11,
   "metadata": {},
   "outputs": [
    {
     "name": "stdout",
     "output_type": "stream",
     "text": [
      "Found 2000 images belonging to 2 classes.\n",
      "Found 1000 images belonging to 2 classes.\n"
     ]
    }
   ],
   "source": [
    "from tensorflow.keras.preprocessing.image import ImageDataGenerator\n",
    "\n",
    "# Updated to do image augmentation\n",
    "train_datagen = ImageDataGenerator(\n",
    "    rescale=1./255,\n",
    "    rotation_range=40,\n",
    "    width_shift_range=0.2,\n",
    "    height_shift_range=0.2,\n",
    "    shear_range=0.2,\n",
    "    zoom_range=0.2,\n",
    "    horizontal_flip=True,\n",
    "    fill_mode='nearest')\n",
    "\n",
    "test_datagen  = ImageDataGenerator( rescale = 1.0/255. )\n",
    "\n",
    "train_generator = train_datagen.flow_from_directory(train_dir,\n",
    "                                                    batch_size=128,\n",
    "                                                    class_mode='binary',\n",
    "                                                    target_size=(150, 150))     \n",
    "validation_generator =  test_datagen.flow_from_directory(validation_dir,\n",
    "                                                         batch_size=128,\n",
    "                                                         class_mode  = 'binary',\n",
    "                                                         target_size = (150, 150))"
   ]
  },
  {
   "cell_type": "markdown",
   "metadata": {},
   "source": [
    "### Model training"
   ]
  },
  {
   "cell_type": "code",
   "execution_count": 13,
   "metadata": {},
   "outputs": [
    {
     "name": "stdout",
     "output_type": "stream",
     "text": [
      "Epoch 1/50\n",
      "15/15 - 9s - loss: 0.6934 - accuracy: 0.5369 - val_loss: 0.6834 - val_accuracy: 0.6016\n",
      "Epoch 2/50\n",
      "15/15 - 9s - loss: 0.6876 - accuracy: 0.5636 - val_loss: 0.6623 - val_accuracy: 0.5491\n",
      "Epoch 3/50\n",
      "15/15 - 9s - loss: 0.6953 - accuracy: 0.5556 - val_loss: 0.6713 - val_accuracy: 0.5469\n",
      "Epoch 4/50\n",
      "15/15 - 9s - loss: 0.6785 - accuracy: 0.5785 - val_loss: 0.6564 - val_accuracy: 0.6306\n",
      "Epoch 5/50\n",
      "15/15 - 9s - loss: 0.6827 - accuracy: 0.6047 - val_loss: 0.7338 - val_accuracy: 0.5201\n",
      "Epoch 6/50\n",
      "15/15 - 9s - loss: 0.6596 - accuracy: 0.6111 - val_loss: 0.6452 - val_accuracy: 0.6161\n",
      "Epoch 7/50\n",
      "15/15 - 9s - loss: 0.7663 - accuracy: 0.6052 - val_loss: 0.6553 - val_accuracy: 0.6016\n",
      "Epoch 8/50\n",
      "15/15 - 9s - loss: 0.6378 - accuracy: 0.6229 - val_loss: 0.6268 - val_accuracy: 0.6562\n",
      "Epoch 9/50\n",
      "15/15 - 9s - loss: 0.6377 - accuracy: 0.6245 - val_loss: 0.6052 - val_accuracy: 0.6775\n",
      "Epoch 10/50\n",
      "15/15 - 9s - loss: 0.7327 - accuracy: 0.6218 - val_loss: 0.6119 - val_accuracy: 0.6853\n",
      "Epoch 11/50\n",
      "15/15 - 9s - loss: 0.6413 - accuracy: 0.6368 - val_loss: 0.5939 - val_accuracy: 0.6908\n",
      "Epoch 12/50\n",
      "15/15 - 9s - loss: 0.6174 - accuracy: 0.6576 - val_loss: 0.6030 - val_accuracy: 0.6775\n",
      "Epoch 13/50\n",
      "15/15 - 9s - loss: 0.6351 - accuracy: 0.6426 - val_loss: 0.6013 - val_accuracy: 0.6864\n",
      "Epoch 14/50\n",
      "15/15 - 9s - loss: 0.6538 - accuracy: 0.6624 - val_loss: 0.6578 - val_accuracy: 0.5960\n",
      "Epoch 15/50\n",
      "15/15 - 9s - loss: 0.6264 - accuracy: 0.6501 - val_loss: 0.5901 - val_accuracy: 0.6875\n",
      "Epoch 16/50\n",
      "15/15 - 9s - loss: 0.5941 - accuracy: 0.6774 - val_loss: 0.6174 - val_accuracy: 0.6484\n",
      "Epoch 17/50\n",
      "15/15 - 10s - loss: 0.6183 - accuracy: 0.6651 - val_loss: 0.6271 - val_accuracy: 0.6429\n",
      "Epoch 18/50\n",
      "15/15 - 9s - loss: 0.6031 - accuracy: 0.6795 - val_loss: 0.5778 - val_accuracy: 0.7031\n",
      "Epoch 19/50\n",
      "15/15 - 9s - loss: 0.6226 - accuracy: 0.6667 - val_loss: 0.5657 - val_accuracy: 0.7143\n",
      "Epoch 20/50\n",
      "15/15 - 9s - loss: 0.5769 - accuracy: 0.7051 - val_loss: 0.5684 - val_accuracy: 0.6931\n",
      "Epoch 21/50\n",
      "15/15 - 10s - loss: 0.5741 - accuracy: 0.6886 - val_loss: 0.5633 - val_accuracy: 0.6998\n",
      "Epoch 22/50\n",
      "15/15 - 9s - loss: 0.5864 - accuracy: 0.6902 - val_loss: 0.5845 - val_accuracy: 0.6741\n",
      "Epoch 23/50\n",
      "15/15 - 9s - loss: 0.5801 - accuracy: 0.6993 - val_loss: 0.5383 - val_accuracy: 0.7243\n",
      "Epoch 24/50\n",
      "15/15 - 9s - loss: 0.5796 - accuracy: 0.7030 - val_loss: 0.5530 - val_accuracy: 0.7054\n",
      "Epoch 25/50\n",
      "15/15 - 9s - loss: 0.5778 - accuracy: 0.7057 - val_loss: 0.5566 - val_accuracy: 0.6931\n",
      "Epoch 26/50\n",
      "15/15 - 9s - loss: 0.5580 - accuracy: 0.7121 - val_loss: 0.5523 - val_accuracy: 0.7199\n",
      "Epoch 27/50\n",
      "15/15 - 9s - loss: 0.5938 - accuracy: 0.6848 - val_loss: 0.5291 - val_accuracy: 0.7266\n",
      "Epoch 28/50\n",
      "15/15 - 9s - loss: 0.5544 - accuracy: 0.7073 - val_loss: 0.5406 - val_accuracy: 0.7199\n",
      "Epoch 29/50\n",
      "15/15 - 9s - loss: 0.5610 - accuracy: 0.7078 - val_loss: 0.5292 - val_accuracy: 0.7388\n",
      "Epoch 30/50\n",
      "15/15 - 9s - loss: 0.5614 - accuracy: 0.7073 - val_loss: 0.5548 - val_accuracy: 0.7176\n",
      "Epoch 31/50\n",
      "15/15 - 9s - loss: 0.5581 - accuracy: 0.7115 - val_loss: 0.5279 - val_accuracy: 0.7299\n",
      "Epoch 32/50\n",
      "15/15 - 9s - loss: 0.5626 - accuracy: 0.7147 - val_loss: 0.5389 - val_accuracy: 0.7455\n",
      "Epoch 33/50\n",
      "15/15 - 9s - loss: 0.5686 - accuracy: 0.7046 - val_loss: 0.5839 - val_accuracy: 0.6830\n",
      "Epoch 34/50\n",
      "15/15 - 9s - loss: 0.5354 - accuracy: 0.7345 - val_loss: 0.5051 - val_accuracy: 0.7444\n",
      "Epoch 35/50\n",
      "15/15 - 9s - loss: 0.5287 - accuracy: 0.7447 - val_loss: 0.5095 - val_accuracy: 0.7489\n",
      "Epoch 36/50\n",
      "15/15 - 9s - loss: 0.5388 - accuracy: 0.7324 - val_loss: 0.5274 - val_accuracy: 0.7310\n",
      "Epoch 37/50\n",
      "15/15 - 9s - loss: 0.5245 - accuracy: 0.7344 - val_loss: 0.5009 - val_accuracy: 0.7578\n",
      "Epoch 38/50\n",
      "15/15 - 9s - loss: 0.5112 - accuracy: 0.7564 - val_loss: 0.5418 - val_accuracy: 0.7121\n",
      "Epoch 39/50\n",
      "15/15 - 10s - loss: 0.5694 - accuracy: 0.7089 - val_loss: 0.5240 - val_accuracy: 0.7433\n",
      "Epoch 40/50\n",
      "15/15 - 10s - loss: 0.5230 - accuracy: 0.7409 - val_loss: 0.5171 - val_accuracy: 0.7467\n",
      "Epoch 41/50\n",
      "15/15 - 10s - loss: 0.5368 - accuracy: 0.7334 - val_loss: 0.5993 - val_accuracy: 0.6975\n",
      "Epoch 42/50\n",
      "15/15 - 10s - loss: 0.5290 - accuracy: 0.7302 - val_loss: 0.5454 - val_accuracy: 0.7199\n",
      "Epoch 43/50\n",
      "15/15 - 10s - loss: 0.5115 - accuracy: 0.7415 - val_loss: 0.5459 - val_accuracy: 0.6975\n",
      "Epoch 44/50\n",
      "15/15 - 9s - loss: 0.5217 - accuracy: 0.7473 - val_loss: 0.5219 - val_accuracy: 0.7422\n",
      "Epoch 45/50\n",
      "15/15 - 10s - loss: 0.5196 - accuracy: 0.7350 - val_loss: 0.4821 - val_accuracy: 0.7634\n",
      "Epoch 46/50\n",
      "15/15 - 9s - loss: 0.5115 - accuracy: 0.7527 - val_loss: 0.5464 - val_accuracy: 0.7232\n",
      "Epoch 47/50\n",
      "15/15 - 10s - loss: 0.4984 - accuracy: 0.7543 - val_loss: 0.5133 - val_accuracy: 0.7422\n",
      "Epoch 48/50\n",
      "15/15 - 10s - loss: 0.5029 - accuracy: 0.7585 - val_loss: 0.5100 - val_accuracy: 0.7578\n",
      "Epoch 49/50\n",
      "15/15 - 9s - loss: 0.4853 - accuracy: 0.7666 - val_loss: 0.6625 - val_accuracy: 0.6741\n",
      "Epoch 50/50\n",
      "15/15 - 9s - loss: 0.5082 - accuracy: 0.7505 - val_loss: 0.5166 - val_accuracy: 0.7478\n"
     ]
    }
   ],
   "source": [
    "history = model.fit(train_generator,\n",
    "                    validation_data=validation_generator,\n",
    "                    steps_per_epoch=15,\n",
    "                    epochs=50,\n",
    "                    validation_steps=7,\n",
    "                    verbose=2)"
   ]
  },
  {
   "cell_type": "markdown",
   "metadata": {},
   "source": [
    "### Evaluate model"
   ]
  },
  {
   "cell_type": "code",
   "execution_count": 25,
   "metadata": {},
   "outputs": [
    {
     "data": {
      "image/png": "[encoded data removed]",
      "text/plain": [
       "<Figure size 432x288 with 1 Axes>"
      ]
     },
     "metadata": {},
     "output_type": "display_data"
    },
    {
     "data": {
      "image/png": "[encoded data removed]",
      "text/plain": [
       "<Figure size 432x288 with 1 Axes>"
      ]
     },
     "metadata": {},
     "output_type": "display_data"
    }
   ],
   "source": [
    "import matplotlib.pyplot as plt\n",
    "plt.style.use('seaborn-whitegrid')\n",
    "\n",
    "acc = history.history['accuracy']\n",
    "val_acc = history.history['val_accuracy']\n",
    "loss = history.history['loss']\n",
    "val_loss = history.history['val_loss']\n",
    "\n",
    "epochs = range(len(acc))\n",
    "\n",
    "plt.plot(epochs, acc, 'bo', label='Training accuracy')\n",
    "plt.plot(epochs, val_acc, 'r', label='Validation accuracy')\n",
    "plt.title('Training and validation accuracy')\n",
    "plt.ylim((0.50,0.80))\n",
    "\n",
    "plt.figure()\n",
    "\n",
    "plt.plot(epochs, loss, 'bo', label='Training Loss')\n",
    "plt.plot(epochs, val_loss, 'r', label='Validation Loss')\n",
    "plt.title('Training and validation loss')\n",
    "plt.ylim((0.45,0.75))\n",
    "plt.legend()\n",
    "\n",
    "plt.show()"
   ]
  },
  {
   "cell_type": "markdown",
   "metadata": {},
   "source": [
    "In this specific example data augmentation is acting to keep the model training for several epochs and steadly improving the performances"
   ]
  },
  {
   "cell_type": "code",
   "execution_count": null,
   "metadata": {},
   "outputs": [],
   "source": []
  }
 ],
 "metadata": {
  "kernelspec": {
   "display_name": "Python 3",
   "language": "python",
   "name": "python3"
  },
  "language_info": {
   "codemirror_mode": {
    "name": "ipython",
    "version": 3
   },
   "file_extension": ".py",
   "mimetype": "text/x-python",
   "name": "python",
   "nbconvert_exporter": "python",
   "pygments_lexer": "ipython3",
   "version": "3.6.10"
  }
 },
 "nbformat": 4,
 "nbformat_minor": 4
}
